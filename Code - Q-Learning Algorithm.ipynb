{
 "cells": [
  {
   "cell_type": "code",
   "execution_count": 1,
   "metadata": {},
   "outputs": [],
   "source": [
    "import numpy as np\n",
    "import pandas as pd\n",
    "import random as rd"
   ]
  },
  {
   "cell_type": "code",
   "execution_count": 2,
   "metadata": {},
   "outputs": [],
   "source": [
    "data = pd.read_csv(\"data.csv\", sep=',')"
   ]
  },
  {
   "cell_type": "code",
   "execution_count": 3,
   "metadata": {},
   "outputs": [
    {
     "data": {
      "text/html": [
       "<div>\n",
       "<style scoped>\n",
       "    .dataframe tbody tr th:only-of-type {\n",
       "        vertical-align: middle;\n",
       "    }\n",
       "\n",
       "    .dataframe tbody tr th {\n",
       "        vertical-align: top;\n",
       "    }\n",
       "\n",
       "    .dataframe thead th {\n",
       "        text-align: right;\n",
       "    }\n",
       "</style>\n",
       "<table border=\"1\" class=\"dataframe\">\n",
       "  <thead>\n",
       "    <tr style=\"text-align: right;\">\n",
       "      <th></th>\n",
       "      <th>US</th>\n",
       "      <th>China</th>\n",
       "    </tr>\n",
       "  </thead>\n",
       "  <tbody>\n",
       "    <tr>\n",
       "      <th>0</th>\n",
       "      <td>1</td>\n",
       "      <td>1</td>\n",
       "    </tr>\n",
       "    <tr>\n",
       "      <th>1</th>\n",
       "      <td>0</td>\n",
       "      <td>1</td>\n",
       "    </tr>\n",
       "    <tr>\n",
       "      <th>2</th>\n",
       "      <td>0</td>\n",
       "      <td>0</td>\n",
       "    </tr>\n",
       "    <tr>\n",
       "      <th>3</th>\n",
       "      <td>1</td>\n",
       "      <td>0</td>\n",
       "    </tr>\n",
       "    <tr>\n",
       "      <th>4</th>\n",
       "      <td>1</td>\n",
       "      <td>1</td>\n",
       "    </tr>\n",
       "  </tbody>\n",
       "</table>\n",
       "</div>"
      ],
      "text/plain": [
       "   US  China\n",
       "0   1      1\n",
       "1   0      1\n",
       "2   0      0\n",
       "3   1      0\n",
       "4   1      1"
      ]
     },
     "execution_count": 3,
     "metadata": {},
     "output_type": "execute_result"
    }
   ],
   "source": [
    "data.head()"
   ]
  },
  {
   "cell_type": "code",
   "execution_count": 4,
   "metadata": {},
   "outputs": [
    {
     "name": "stdout",
     "output_type": "stream",
     "text": [
      "<class 'pandas.core.frame.DataFrame'>\n",
      "RangeIndex: 30 entries, 0 to 29\n",
      "Data columns (total 2 columns):\n",
      "US       30 non-null int64\n",
      "China    30 non-null int64\n",
      "dtypes: int64(2)\n",
      "memory usage: 560.0 bytes\n"
     ]
    }
   ],
   "source": [
    "data.info()"
   ]
  },
  {
   "cell_type": "code",
   "execution_count": 5,
   "metadata": {},
   "outputs": [],
   "source": [
    "# Inititializations\n",
    "train_num = 29\n",
    "test_num = 100\n",
    "y = 0\n",
    "n = 1\n",
    "alpha = 0.5 # Learning Rate\n",
    "gamma = 0.2 # Discount Rate\n",
    "yy = 0\n",
    "ny = 0\n",
    "yn = 0\n",
    "nn = 0\n",
    "w = 0.5 # Weight for payoffs\n",
    "lamda = 0.01 # Rate for updation of w\n",
    "qtable = [[0 for x in range(2)] for y in range(2)] # Q-table"
   ]
  },
  {
   "cell_type": "code",
   "execution_count": 6,
   "metadata": {},
   "outputs": [],
   "source": [
    "# Reward Matrix\n",
    "def reward(state,action):\n",
    "    \n",
    "    if state == y: # Opponent move is y\n",
    "        if action == y:\n",
    "            return w\n",
    "        else:\n",
    "            return (2-3*w)\n",
    "    else: # Opponent move is n\n",
    "        if action == y:\n",
    "            return (3*w-2)\n",
    "        else:\n",
    "            return -w"
   ]
  },
  {
   "cell_type": "code",
   "execution_count": 7,
   "metadata": {},
   "outputs": [],
   "source": [
    "def opponent_Move():\n",
    "    \n",
    "    prob_y = (yy+ny/yy+ny+yn+nn)\n",
    "    prob_n = (yn+nn/yy+ny+yn+nn)\n",
    "    \n",
    "    Est_y = max(w,3*w-2)*prob_y\n",
    "    Est_n = max(2-3*w,-w)*prob_n\n",
    "    \n",
    "    if Est_y-Est_n > 0.1:\n",
    "        return n;\n",
    "    elif Est_n-Est_y > 0.1:\n",
    "        return y;\n",
    "    \n",
    "    if Est_y>Est_n:\n",
    "        return y\n",
    "    elif Est_n>Est_y:\n",
    "        return n\n",
    "    else:\n",
    "        return rd.randint(0,1)"
   ]
  },
  {
   "cell_type": "markdown",
   "metadata": {},
   "source": [
    "# Train"
   ]
  },
  {
   "cell_type": "code",
   "execution_count": 8,
   "metadata": {},
   "outputs": [
    {
     "name": "stdout",
     "output_type": "stream",
     "text": [
      "yy =  8  ny =  4  yn =  5  nn =  12\n"
     ]
    }
   ],
   "source": [
    "temp1 = 1\n",
    "tempyn = yn\n",
    "tempny = ny\n",
    "\n",
    "for i in range(train_num):\n",
    "    \n",
    "    state = data['China'][i]\n",
    "    nextstate = data['China'][i+1]\n",
    "    action = data['US'][i]\n",
    "    \n",
    "    r = reward(state,action)\n",
    "    \n",
    "    qtable[state][action] = qtable[state][action] + \\\n",
    "    alpha*(r + gamma*max(qtable[nextstate][y],qtable[nextstate][n]) - \\\n",
    "           qtable[state][action])\n",
    "    \n",
    "    if action == y and state == y:\n",
    "        yy += 1\n",
    "    elif action == y and state == n:\n",
    "        yn += 1\n",
    "    elif action == n and state == y:\n",
    "        ny += 1\n",
    "    else:\n",
    "        nn +=1\n",
    "        \n",
    "    if(tempyn - tempny != yn - ny):\n",
    "        temp1 = 1\n",
    "        \n",
    "    tempyn = yn\n",
    "    tempny = ny\n",
    "    \n",
    "    if temp1 == 1:\n",
    "        if yn>ny:\n",
    "            w = w - (lamda*(yn-ny))\n",
    "        elif yn<ny:\n",
    "            w = w + (lamda*(ny-yn))\n",
    "        temp1 = 0\n",
    "        \n",
    "print(\"yy = \",yy,\" ny = \",ny,\" yn = \",yn,\" nn = \",nn)"
   ]
  },
  {
   "cell_type": "markdown",
   "metadata": {},
   "source": [
    "# Independent"
   ]
  },
  {
   "cell_type": "code",
   "execution_count": 9,
   "metadata": {},
   "outputs": [
    {
     "name": "stdout",
     "output_type": "stream",
     "text": [
      "yy =  8  ny =  52  yn =  54  nn =  15\n"
     ]
    }
   ],
   "source": [
    "for i in range(test_num):\n",
    "    \n",
    "    state = nextstate\n",
    "    nextstate = opponent_Move()\n",
    "    \n",
    "    if qtable[state][y] > qtable[state][n]:\n",
    "        action = y\n",
    "    elif qtable[state][n] > qtable[state][y]:\n",
    "        action = n\n",
    "    else:\n",
    "        action = rd.randint(0,1)\n",
    "    \n",
    "    r = reward(state,action)\n",
    "    \n",
    "    qtable[state][action] = qtable[state][action] + \\\n",
    "    alpha*(r + gamma*max(qtable[nextstate][y],qtable[nextstate][n]) - \\\n",
    "           qtable[state][action])\n",
    "    \n",
    "    if action == y and state == y:\n",
    "        yy += 1\n",
    "    elif action == y and state == n:\n",
    "        yn += 1\n",
    "    elif action == n and state == y:\n",
    "        ny += 1\n",
    "    else:\n",
    "        nn +=1\n",
    "        \n",
    "    if(tempyn - tempny != yn - ny):\n",
    "        temp1 = 1\n",
    "        \n",
    "    tempyn = yn\n",
    "    tempny = ny\n",
    "    \n",
    "    if temp1 == 1:\n",
    "        if yn>ny:\n",
    "            w = w - (lamda*(yn-ny))\n",
    "        elif yn<ny:\n",
    "            w = w + (lamda*(ny-yn))\n",
    "        temp1 = 0\n",
    "        \n",
    "print(\"yy = \",yy,\" ny = \",ny,\" yn = \",yn,\" nn = \",nn)"
   ]
  },
  {
   "cell_type": "code",
   "execution_count": null,
   "metadata": {},
   "outputs": [],
   "source": []
  }
 ],
 "metadata": {
  "kernelspec": {
   "display_name": "Python 3",
   "language": "python",
   "name": "python3"
  },
  "language_info": {
   "codemirror_mode": {
    "name": "ipython",
    "version": 3
   },
   "file_extension": ".py",
   "mimetype": "text/x-python",
   "name": "python",
   "nbconvert_exporter": "python",
   "pygments_lexer": "ipython3",
   "version": "3.6.4"
  }
 },
 "nbformat": 4,
 "nbformat_minor": 2
}
